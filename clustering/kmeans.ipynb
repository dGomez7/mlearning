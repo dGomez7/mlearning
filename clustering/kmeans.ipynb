{
 "cells": [
  {
   "cell_type": "code",
   "execution_count": 7,
   "id": "77b7cfd6-5070-4c18-b37c-5be50c310d4a",
   "metadata": {},
   "outputs": [],
   "source": [
    "import matplotlib.pyplot as plt\n",
    "import numpy as np\n",
    "import pandas as pd\n",
    "import random"
   ]
  },
  {
   "cell_type": "code",
   "execution_count": 35,
   "id": "f9e323d2-72eb-424e-bb07-b17d3eaefe95",
   "metadata": {},
   "outputs": [],
   "source": [
    "# perform k_means in 1 dimensional case\n",
    "def k_means(points, means):\n",
    "    min_distance = float('inf')\n",
    "    distance = 0\n",
    "    mean_index = 0\n",
    "    groups = {}\n",
    "    for i in range(0, len(points)):\n",
    "        print(i)\n",
    "        for j in range(0, len(means)):\n",
    "            distance = np.abs(points[i] - means[j])\n",
    "            if distance < min_distance:\n",
    "                min_distance = distance\n",
    "                index = j\n",
    "        groups[means[index]] = points[i]\n",
    "    return groups\n",
    "\n",
    "# redefine the mean based on the points assigned to the mean group\n",
    "#def re_group(groups):\n",
    " #   for i in \n",
    "\n",
    "def create_clusters(num_points, minumum, maximum):\n",
    "    points = []\n",
    "    for i in range(num_points):\n",
    "        points.append(random.randint(minumum, maximum))\n",
    "    return points\n",
    "\n",
    "def generate_random_means(k, minumum, maximum):\n",
    "    means = []\n",
    "    for i in range(0, k):\n",
    "        means.append(random.randint(minumum, maximum))\n",
    "    return means"
   ]
  },
  {
   "cell_type": "code",
   "execution_count": 30,
   "id": "ed257b83-c0bb-465a-a59c-df96360f3c3b",
   "metadata": {},
   "outputs": [
    {
     "data": {
      "text/plain": [
       "<matplotlib.collections.PathCollection at 0x7f9f8a1b9e20>"
      ]
     },
     "execution_count": 30,
     "metadata": {},
     "output_type": "execute_result"
    },
    {
     "data": {
      "image/png": "[encoded data removed]",
      "text/plain": [
       "<Figure size 432x288 with 1 Axes>"
      ]
     },
     "metadata": {
      "needs_background": "light"
     },
     "output_type": "display_data"
    }
   ],
   "source": [
    "num_points = 10\n",
    "minumum = 1\n",
    "maximum = 100\n",
    "k = 3\n",
    "points = create_clusters(num_points, minumum, maximum)\n",
    "ypoints = [0] * num_points\n",
    "means = generate_random_means(k, minumum, maximum)\n",
    "k_ypoints = [0] * k\n",
    "plt.scatter(points, y_points, color='k', s=8)\n",
    "plt.scatter(means, k_ypoints, color='g')"
   ]
  },
  {
   "cell_type": "code",
   "execution_count": 39,
   "id": "8be68a90-4a26-4079-bb60-59eda38c97b2",
   "metadata": {},
   "outputs": [
    {
     "name": "stdout",
     "output_type": "stream",
     "text": [
      "0\n",
      "1\n",
      "2\n",
      "3\n",
      "4\n",
      "5\n",
      "6\n",
      "7\n",
      "8\n",
      "9\n"
     ]
    },
    {
     "data": {
      "text/plain": [
       "{25: 14}"
      ]
     },
     "execution_count": 39,
     "metadata": {},
     "output_type": "execute_result"
    }
   ],
   "source": [
    "k_means(points, means)"
   ]
  }
 ],
 "metadata": {
  "kernelspec": {
   "display_name": "Python 3 (ipykernel)",
   "language": "python",
   "name": "python3"
  },
  "language_info": {
   "codemirror_mode": {
    "name": "ipython",
    "version": 3
   },
   "file_extension": ".py",
   "mimetype": "text/x-python",
   "name": "python",
   "nbconvert_exporter": "python",
   "pygments_lexer": "ipython3",
   "version": "3.8.2"
  }
 },
 "nbformat": 4,
 "nbformat_minor": 5
}
