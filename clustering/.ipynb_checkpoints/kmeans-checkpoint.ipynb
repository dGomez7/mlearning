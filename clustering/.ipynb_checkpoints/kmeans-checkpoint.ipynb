{
 "cells": [
  {
   "cell_type": "code",
   "execution_count": 1,
   "id": "77b7cfd6-5070-4c18-b37c-5be50c310d4a",
   "metadata": {},
   "outputs": [],
   "source": [
    "import matplotlib.pyplot as plt\n",
    "import numpy as np\n",
    "import pandas as pd\n",
    "import random"
   ]
  },
  {
   "cell_type": "code",
   "execution_count": 41,
   "id": "f9e323d2-72eb-424e-bb07-b17d3eaefe95",
   "metadata": {},
   "outputs": [],
   "source": [
    "# perform k_means in 1 dimensional case\n",
    "def k_means(points, means):\n",
    "    min_distance = float('inf')\n",
    "    distance = 0\n",
    "    min_index = 0\n",
    "    groups = {}\n",
    "    # instantiate the groups dictionary\n",
    "    for i in range(0, len(means)):\n",
    "        groups[means[i]] = []\n",
    "    for i in range(0, len(points)):\n",
    "        for j in range(0, len(means)):\n",
    "            distance = np.abs(points[i] - means[j])\n",
    "            if distance < min_distance:\n",
    "                min_distance = distance\n",
    "                min_index = j\n",
    "        distance = 0\n",
    "        min_distance = float('inf')\n",
    "        groups[means[min_index]].append(points[i])\n",
    "    return groups\n",
    "\n",
    "# redefine the mean based on the points assigned to the mean group\n",
    "def re_group(groups):\n",
    "    new_means = []\n",
    "    s = 0\n",
    "    n = 0\n",
    "    # loop through means in the dictionary\n",
    "    for mean in groups:\n",
    "        n = len(groups[mean])\n",
    "        # check if any points have been listed as being grouped around\n",
    "        # the given mean\n",
    "        if n > 0:\n",
    "            # calculate the new average\n",
    "            for i in range(0, len(groups[mean])):\n",
    "                s += groups[mean][i]\n",
    "            # save the new mean in an array that will be returned to the caller\n",
    "            new_means.append(s/n)\n",
    "            s = 0\n",
    "            n = 0\n",
    "        # no points are grouped around the mean: keep the mean unchanged\n",
    "        else:\n",
    "            new_means.append(mean)\n",
    "    # return the newly calculated averages\n",
    "    return new_means\n",
    "\n",
    "def create_clusters(num_points, minumum, maximum):\n",
    "    points = []\n",
    "    for i in range(num_points):\n",
    "        points.append(random.randint(minumum, maximum))\n",
    "    return points\n",
    "\n",
    "def generate_random_means(k, minumum, maximum):\n",
    "    means = []\n",
    "    for i in range(0, k):\n",
    "        means.append(random.randint(minumum, maximum))\n",
    "    return means\n",
    "\n",
    "def change_above_threshold(old_means, new_means, threshold):\n",
    "    cnt = 0\n",
    "    for i in range(0, len(new_means)):\n",
    "        std_err = np.abs((old_means[i] - new_means[i]) / old_means[i])\n",
    "        if std_err <= threshold:\n",
    "            cnt += 1\n",
    "    # if hit the threshold for each mean, then we are done averaging\n",
    "    # the points within each mean group\n",
    "    if cnt == len(new_means):\n",
    "        return True\n",
    "    else:\n",
    "        return False"
   ]
  },
  {
   "cell_type": "code",
   "execution_count": 142,
   "id": "ed257b83-c0bb-465a-a59c-df96360f3c3b",
   "metadata": {},
   "outputs": [
    {
     "name": "stdout",
     "output_type": "stream",
     "text": [
      "number of iterations 3\n"
     ]
    },
    {
     "data": {
      "text/plain": [
       "<matplotlib.collections.PathCollection at 0x7f531d5b2580>"
      ]
     },
     "execution_count": 142,
     "metadata": {},
     "output_type": "execute_result"
    },
    {
     "data": {
      "image/png": "[encoded data removed]",
      "text/plain": [
       "<Figure size 432x288 with 1 Axes>"
      ]
     },
     "metadata": {
      "needs_background": "light"
     },
     "output_type": "display_data"
    }
   ],
   "source": [
    "num_points = 30\n",
    "minumum = 1\n",
    "maximum = 100\n",
    "k = 3\n",
    "threshold = 0.0001\n",
    "max_iterations = 100\n",
    "points = create_clusters(num_points, minumum, maximum)\n",
    "y_points = [0] * num_points\n",
    "means = generate_random_means(k, minumum, maximum)\n",
    "k_ypoints = [0] * k\n",
    "# perform k-means clustering\n",
    "iteration = 0\n",
    "is_above_threshold = False\n",
    "new_means = means\n",
    "while iteration < max_iterations and is_above_threshold == False:\n",
    "    means = new_means\n",
    "    groups = k_means(points, means)\n",
    "    new_means = re_group(groups)\n",
    "    # check the percentage change between means\n",
    "    # if the change between all means is within a certain\n",
    "    # threshold, stop\n",
    "    is_above_threshold = change_above_threshold(means, new_means, threshold)\n",
    "    iteration += 1\n",
    "print('number of iterations', iteration)\n",
    "plt.scatter(points, y_points, color='k', s=8)\n",
    "plt.scatter(new_means, k_ypoints, color='g', s=60)"
   ]
  },
  {
   "cell_type": "code",
   "execution_count": null,
   "id": "cccf87ff-4c91-4df6-a410-846f62ffda4f",
   "metadata": {},
   "outputs": [],
   "source": []
  },
  {
   "cell_type": "code",
   "execution_count": null,
   "id": "2ea6922e-5cf8-448a-a6e8-7b644dadcb71",
   "metadata": {},
   "outputs": [],
   "source": []
  }
 ],
 "metadata": {
  "kernelspec": {
   "display_name": "Python 3 (ipykernel)",
   "language": "python",
   "name": "python3"
  },
  "language_info": {
   "codemirror_mode": {
    "name": "ipython",
    "version": 3
   },
   "file_extension": ".py",
   "mimetype": "text/x-python",
   "name": "python",
   "nbconvert_exporter": "python",
   "pygments_lexer": "ipython3",
   "version": "3.8.2"
  }
 },
 "nbformat": 4,
 "nbformat_minor": 5
}
